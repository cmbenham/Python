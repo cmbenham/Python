{
 "cells": [
  {
   "cell_type": "code",
   "execution_count": null,
   "metadata": {},
   "outputs": [],
   "source": [
    "class DataScienceCB:\n",
    "    \n",
    "    def __init__(self, N):\n",
    "        self.N = N\n",
    "\n",
    "        \n",
    "    "
   ]
  },
  {
   "cell_type": "code",
   "execution_count": null,
   "metadata": {},
   "outputs": [],
   "source": [
    "# Gradient Decent Functions\n",
    "    def graddec(self, N):\n",
    "        X = np.hstack((np.ones((N,1)),(np.random.rand(N,2)-0.5)*10))\n",
    "        b = np.array([[1],[2],[3]])\n",
    "        Y = X@b+np.random.randn(N,1)*5\n",
    "        \n",
    "        X[:,[1,2]] = (X[:,[1,2]]-X[:,[1,2]].min(axis=0))/(X[:,[1,2]].max(axis=0)-X[:,[1,2]].min(axis=0))\n",
    "        w = np.random.randn(3,1)\n",
    "        epochs = 1000\n",
    "        eta = 1e-4\n",
    "        Errors = np.empty(epochs)\n",
    "        \n",
    "        for i in range(epochs):\n",
    "            E = (Y-X@w).T@(Y-X@w)\n",
    "            Errors[i] = E\n",
    "            w -= eta*X.T@(X@w-Y)\n",
    "        \n",
    "    def graddefplt(self):\n",
    "        plt.plot(Errors)\n",
    "        plt.xlabel('Iteration')\n",
    "        plt.ylabel('Error')\n",
    "        \n",
    "    def graddecfig(self): \n",
    "        fig = plt.figure(figsize=(7,7))\n",
    "        ax = fig.add_subplot(111, projection='3d')\n",
    "        ax.scatter(X[:,1],X[:,2],Y,s=1,c='k')\n",
    "        ax.scatter(X[:,1],X[:,2],X@w,s=4,c='r')"
   ]
  },
  {
   "cell_type": "code",
   "execution_count": null,
   "metadata": {},
   "outputs": [],
   "source": [
    "# Regression Functions\n",
    "    def reg(self, N):\n",
    "        X = np.hstack((np.ones((N,1)),(np.random.rand(N,2)-0.5)*10))\n",
    "        b = np.array([[1.],[2.5],[3.7]])\n",
    "        Y = np.hstack((X,X[:,[1]]**2))@b+np.random.randn(N,1)*1e3\n",
    "        phi = np.hstack((X,X[:,[1]]**2))\n",
    "        w = np.linalg.inv(phi.T@phi)@phi.T@Y\n",
    "        Yhat = phi@w\n",
    "        \n",
    "    def regplt(self):\n",
    "        plt.figure(figsize=(7,7))\n",
    "        plt.scatter(X[:,[1]],Y,s=3)\n",
    "        plt.title('The Simulated Data with Noise')\n",
    "        plt.xlabel('X')\n",
    "        plt.ylabel('Y')\n",
    "        plt.show()\n",
    "        \n",
    "    def regfig(self):\n",
    "        plt.scatter(X[:,[1]],Y)\n",
    "        plt.scatter(X[:,[1]],Yhat,c='r')"
   ]
  },
  {
   "cell_type": "code",
   "execution_count": null,
   "metadata": {},
   "outputs": [],
   "source": [
    "# R-squared Function\n",
    "    def rsq(self):\n",
    "        Rsq = 1-((Y-X@w).T@(Y-X@w))/((Y-Y.mean()).T@(Y-Y.mean()))\n",
    "        print('R-squared = {}'.format(Rsq[0][0]))"
   ]
  },
  {
   "cell_type": "code",
   "execution_count": null,
   "metadata": {},
   "outputs": [],
   "source": [
    "# Sum of Squared Errors Function\n",
    "    def SSE(self):\n",
    "        "
   ]
  },
  {
   "cell_type": "code",
   "execution_count": null,
   "metadata": {},
   "outputs": [],
   "source": [
    "# One-Hot Encoder\n",
    "    def OneHot(self, ):"
   ]
  }
 ],
 "metadata": {
  "kernelspec": {
   "display_name": "Python 3",
   "language": "python",
   "name": "python3"
  },
  "language_info": {
   "codemirror_mode": {
    "name": "ipython",
    "version": 3
   },
   "file_extension": ".py",
   "mimetype": "text/x-python",
   "name": "python",
   "nbconvert_exporter": "python",
   "pygments_lexer": "ipython3",
   "version": "3.7.3"
  }
 },
 "nbformat": 4,
 "nbformat_minor": 2
}
